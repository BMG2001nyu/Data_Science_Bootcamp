{
 "cells": [
  {
   "cell_type": "markdown",
   "metadata": {},
   "source": [
    "Part 1 - Question 1"
   ]
  },
  {
   "cell_type": "code",
   "execution_count": 3,
   "metadata": {},
   "outputs": [
    {
     "name": "stdout",
     "output_type": "stream",
     "text": [
      "Collecting numpy\n",
      "  Downloading numpy-2.2.4-cp313-cp313-macosx_14_0_x86_64.whl.metadata (62 kB)\n",
      "Downloading numpy-2.2.4-cp313-cp313-macosx_14_0_x86_64.whl (6.7 MB)\n",
      "\u001b[2K   \u001b[90m━━━━━━━━━━━━━━━━━━━━━━━━━━━━━━━━━━━━━━━━\u001b[0m \u001b[32m6.7/6.7 MB\u001b[0m \u001b[31m12.2 MB/s\u001b[0m eta \u001b[36m0:00:00\u001b[0ma \u001b[36m0:00:01\u001b[0m\n",
      "\u001b[?25hInstalling collected packages: numpy\n",
      "Successfully installed numpy-2.2.4\n",
      "Note: you may need to restart the kernel to use updated packages.\n"
     ]
    }
   ],
   "source": [
    "pip install numpy"
   ]
  },
  {
   "cell_type": "code",
   "execution_count": 4,
   "metadata": {},
   "outputs": [
    {
     "name": "stdout",
     "output_type": "stream",
     "text": [
      "Vertical Stack:\n",
      " [[1 3 5 7 9]\n",
      " [3 5 6 7 8]]\n",
      "\n",
      "Horizontal Stack:\n",
      " [1 3 5 7 9 3 5 6 7 8]\n"
     ]
    }
   ],
   "source": [
    "import numpy as np\n",
    "\n",
    "A = np.array([1, 3, 5, 7, 9])\n",
    "B = np.array([3, 5, 6, 7, 8])\n",
    "\n",
    "vertical_stack = np.vstack((A, B))\n",
    "print(\"Vertical Stack:\\n\", vertical_stack)\n",
    "\n",
    "horizontal_stack = np.hstack((A, B))\n",
    "print(\"\\nHorizontal Stack:\\n\", horizontal_stack)"
   ]
  },
  {
   "cell_type": "markdown",
   "metadata": {},
   "source": [
    "Question 2"
   ]
  },
  {
   "cell_type": "code",
   "execution_count": 5,
   "metadata": {},
   "outputs": [
    {
     "name": "stdout",
     "output_type": "stream",
     "text": [
      "\n",
      "Common Elements between A and B: [3 5 7]\n"
     ]
    }
   ],
   "source": [
    "common_elements = np.intersect1d(A, B)\n",
    "print(\"\\nCommon Elements between A and B:\", common_elements)"
   ]
  },
  {
   "cell_type": "markdown",
   "metadata": {},
   "source": [
    "Question 3 "
   ]
  },
  {
   "cell_type": "code",
   "execution_count": 6,
   "metadata": {},
   "outputs": [
    {
     "name": "stdout",
     "output_type": "stream",
     "text": [
      "\n",
      "Numbers in A between 5 and 10: [7 9]\n"
     ]
    }
   ],
   "source": [
    "range_mask = (A > 5) & (A < 10)\n",
    "A_in_range = A[range_mask]\n",
    "print(\"\\nNumbers in A between 5 and 10:\", A_in_range)"
   ]
  },
  {
   "cell_type": "markdown",
   "metadata": {},
   "source": [
    "Question 4 "
   ]
  },
  {
   "cell_type": "code",
   "execution_count": 7,
   "metadata": {},
   "outputs": [
    {
     "name": "stdout",
     "output_type": "stream",
     "text": [
      "\n",
      "Filtered iris_2d rows where petallength > 1.5 and sepallength < 5.0:\n",
      " [[4.8 3.4 1.6 0.2]\n",
      " [4.8 3.4 1.9 0.2]\n",
      " [4.7 3.2 1.6 0.2]\n",
      " [4.8 3.1 1.6 0.2]\n",
      " [4.9 2.4 3.3 1. ]\n",
      " [4.9 2.5 4.5 1.7]]\n"
     ]
    }
   ],
   "source": [
    "url = 'https://archive.ics.uci.edu/ml/machine-learning-databases/iris/iris.data'\n",
    "\n",
    "iris_2d = np.genfromtxt(url, delimiter=',', dtype='float', usecols=[0, 1, 2, 3])\n",
    "\n",
    "mask = (iris_2d[:, 2] > 1.5) & (iris_2d[:, 0] < 5.0)\n",
    "filtered_iris = iris_2d[mask]\n",
    "print(\"\\nFiltered iris_2d rows where petallength > 1.5 and sepallength < 5.0:\\n\", filtered_iris)"
   ]
  }
 ],
 "metadata": {
  "kernelspec": {
   "display_name": ".venv",
   "language": "python",
   "name": "python3"
  },
  "language_info": {
   "codemirror_mode": {
    "name": "ipython",
    "version": 3
   },
   "file_extension": ".py",
   "mimetype": "text/x-python",
   "name": "python",
   "nbconvert_exporter": "python",
   "pygments_lexer": "ipython3",
   "version": "3.13.2"
  }
 },
 "nbformat": 4,
 "nbformat_minor": 2
}
